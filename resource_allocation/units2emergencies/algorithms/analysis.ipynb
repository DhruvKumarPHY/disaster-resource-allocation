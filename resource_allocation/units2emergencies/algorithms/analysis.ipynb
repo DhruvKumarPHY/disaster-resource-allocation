{
 "cells": [
  {
   "cell_type": "code",
   "execution_count": 1,
   "metadata": {},
   "outputs": [],
   "source": [
    "import sys, os\n",
    "sys.path.insert(1, '../')\n",
    "import time, tqdm\n",
    "import copy\n",
    "import numpy as np\n",
    "import pandas as pd\n",
    "from operator import attrgetter\n",
    "from utils import Emergency, EmergencyServiceLocation, Distribution, Input, Unit\n",
    "from situations import situation1, situation2\n",
    "from pso import PSO\n",
    "from gwo import GWO\n",
    "import statistics\n",
    "import json \n",
    "import pandas as pd\n"
   ]
  },
  {
   "cell_type": "code",
   "execution_count": 2,
   "metadata": {},
   "outputs": [],
   "source": [
    "input_a = Input.from_situation(situation1)"
   ]
  },
  {
   "cell_type": "code",
   "execution_count": 3,
   "metadata": {},
   "outputs": [
    {
     "name": "stderr",
     "output_type": "stream",
     "text": [
      "Initializing: 100%|██████████| 200/200 [00:00<00:00, 5670.85it/s]\n"
     ]
    },
    {
     "name": "stdout",
     "output_type": "stream",
     "text": [
      "Initial alpha fitness =  8004.4962474253425\n"
     ]
    },
    {
     "name": "stderr",
     "output_type": "stream",
     "text": [
      "100%|██████████| 1000/1000 [00:57<00:00, 17.48it/s]\n"
     ]
    }
   ],
   "source": [
    "gwo = GWO(input_a, iterations=1000, population=200, save=False, verbose=True)\n",
    "gwo.run()"
   ]
  },
  {
   "cell_type": "code",
   "execution_count": 4,
   "metadata": {},
   "outputs": [
    {
     "data": {
      "text/plain": [
       "11136.467203676006"
      ]
     },
     "execution_count": 4,
     "metadata": {},
     "output_type": "execute_result"
    }
   ],
   "source": [
    "gwo.getBestFitness()"
   ]
  },
  {
   "cell_type": "code",
   "execution_count": 8,
   "metadata": {},
   "outputs": [
    {
     "name": "stderr",
     "output_type": "stream",
     "text": [
      "100%|██████████| 100/100 [00:00<00:00, 106.55it/s]\n"
     ]
    }
   ],
   "source": [
    "pso = PSO(input_a, iterations=100, population=20, save=False, verbose=True)\n",
    "pso.run()"
   ]
  },
  {
   "cell_type": "code",
   "execution_count": null,
   "metadata": {},
   "outputs": [],
   "source": [
    "pso"
   ]
  },
  {
   "cell_type": "code",
   "execution_count": 12,
   "metadata": {},
   "outputs": [],
   "source": [
    "prog = [pso.getProgress(),pso.getProgress(),pso.getProgress(),pso.getProgress(),pso.getProgress()]"
   ]
  },
  {
   "cell_type": "code",
   "execution_count": 16,
   "metadata": {},
   "outputs": [],
   "source": [
    "progress = [statistics.mean([prog[x][i] for x in range(len(prog))]) for i in range(len(prog[0]))]"
   ]
  },
  {
   "cell_type": "code",
   "execution_count": 18,
   "metadata": {},
   "outputs": [
    {
     "data": {
      "text/plain": [
       "100"
      ]
     },
     "execution_count": 18,
     "metadata": {},
     "output_type": "execute_result"
    }
   ],
   "source": [
    "len(progress)"
   ]
  },
  {
   "cell_type": "code",
   "execution_count": null,
   "metadata": {},
   "outputs": [],
   "source": []
  },
  {
   "cell_type": "code",
   "execution_count": 5,
   "metadata": {},
   "outputs": [
    {
     "data": {
      "text/plain": [
       "10408.257821832973"
      ]
     },
     "execution_count": 5,
     "metadata": {},
     "output_type": "execute_result"
    }
   ],
   "source": [
    "pso.getBestFitness()"
   ]
  },
  {
   "cell_type": "code",
   "execution_count": 6,
   "metadata": {},
   "outputs": [
    {
     "data": {
      "text/plain": [
       "772.2509379609967"
      ]
     },
     "execution_count": 6,
     "metadata": {},
     "output_type": "execute_result"
    }
   ],
   "source": [
    "772.2509379609967"
   ]
  },
  {
   "cell_type": "code",
   "execution_count": 2,
   "metadata": {},
   "outputs": [],
   "source": [
    "json = json.dumps(Input.get_random_situation(10, 10, 10).to_json())"
   ]
  },
  {
   "cell_type": "code",
   "execution_count": 3,
   "metadata": {},
   "outputs": [
    {
     "data": {
      "text/plain": [
       "'{\"emergencies\": [{\"point\": [31, -89], \"severity\": 3, \"Etype\": 2}, {\"point\": [-32, -38], \"severity\": 4, \"Etype\": 2}, {\"point\": [-95, 88], \"severity\": 2, \"Etype\": 1}, {\"point\": [-38, -29], \"severity\": 2, \"Etype\": 2}, {\"point\": [-33, -55], \"severity\": 1, \"Etype\": 1}, {\"point\": [11, -9], \"severity\": 3, \"Etype\": 1}, {\"point\": [23, -98], \"severity\": 1, \"Etype\": 1}, {\"point\": [-7, 73], \"severity\": 4, \"Etype\": 2}, {\"point\": [2, -52], \"severity\": 3, \"Etype\": 2}, {\"point\": [79, 88], \"severity\": 2, \"Etype\": 1}], \"service_locations\": [{\"point\": [-98, 23], \"Etype\": 1, \"personnel_avaliable\": 2, \"n_units\": 3, \"unit_severities\": [4, 4, 1, 1, 4]}, {\"point\": [-24, 11], \"Etype\": 2, \"personnel_avaliable\": 7, \"n_units\": 1, \"unit_severities\": [1, 2, 3, 1, 3]}, {\"point\": [53, -81], \"Etype\": 2, \"personnel_avaliable\": 3, \"n_units\": 4, \"unit_severities\": [1, 3, 3, 3, 4]}, {\"point\": [-91, 57], \"Etype\": 2, \"personnel_avaliable\": 6, \"n_units\": 3, \"unit_severities\": [4, 2, 3, 2, 4]}, {\"point\": [58, -28], \"Etype\": 1, \"personnel_avaliable\": 2, \"n_units\": 3, \"unit_severities\": [2, 4, 4, 2, 4]}, {\"point\": [-33, -90], \"Etype\": 2, \"personnel_avaliable\": 9, \"n_units\": 3, \"unit_severities\": [1, 3, 2, 3, 3]}, {\"point\": [99, -92], \"Etype\": 1, \"personnel_avaliable\": 5, \"n_units\": 2, \"unit_severities\": [3, 2, 3, 2, 1]}, {\"point\": [20, 37], \"Etype\": 2, \"personnel_avaliable\": 7, \"n_units\": 1, \"unit_severities\": [3, 3, 1, 2, 3]}, {\"point\": [-36, -76], \"Etype\": 1, \"personnel_avaliable\": 7, \"n_units\": 4, \"unit_severities\": [3, 1, 1, 4, 3]}, {\"point\": [-53, 21], \"Etype\": 1, \"personnel_avaliable\": 7, \"n_units\": 4, \"unit_severities\": [2, 4, 1, 3, 4]}], \"reserve\": 0.2, \"eTypes\": [1, 2]}'"
      ]
     },
     "execution_count": 3,
     "metadata": {},
     "output_type": "execute_result"
    }
   ],
   "source": [
    "json"
   ]
  },
  {
   "cell_type": "code",
   "execution_count": 6,
   "metadata": {},
   "outputs": [],
   "source": [
    "input = Input.from_situation(Input.get_random_situation(10, 10, 10).to_json())"
   ]
  },
  {
   "cell_type": "code",
   "execution_count": 7,
   "metadata": {},
   "outputs": [
    {
     "data": {
      "text/plain": [
       "<utils.Input at 0x11fa89a00>"
      ]
     },
     "execution_count": 7,
     "metadata": {},
     "output_type": "execute_result"
    }
   ],
   "source": [
    "input"
   ]
  },
  {
   "cell_type": "code",
   "execution_count": 10,
   "metadata": {},
   "outputs": [],
   "source": [
    "f = open(\"dataset/situation_15.json\", \"r\")\n",
    "data = json.load(f)\n",
    "f.close()"
   ]
  },
  {
   "cell_type": "code",
   "execution_count": 12,
   "metadata": {},
   "outputs": [
    {
     "data": {
      "text/plain": [
       "<utils.Input at 0x11f1eb280>"
      ]
     },
     "execution_count": 12,
     "metadata": {},
     "output_type": "execute_result"
    }
   ],
   "source": [
    "Input.from_situation(data)"
   ]
  },
  {
   "cell_type": "code",
   "execution_count": 13,
   "metadata": {},
   "outputs": [],
   "source": [
    "res = [100, 200, 300, 400, 500, 600, 700, 800, 900, 1000]"
   ]
  },
  {
   "cell_type": "code",
   "execution_count": 14,
   "metadata": {},
   "outputs": [],
   "source": [
    "pso_result = {\"mean\": statistics.mean(res), \"std\": statistics.stdev(res), \"best\": max(res), \"worst\": min(res)}"
   ]
  },
  {
   "cell_type": "code",
   "execution_count": 21,
   "metadata": {},
   "outputs": [],
   "source": [
    "ress = [pso_result,pso_result,pso_result]"
   ]
  },
  {
   "cell_type": "code",
   "execution_count": 16,
   "metadata": {},
   "outputs": [],
   "source": [
    "x =  {\"pso\": pso_result, \"gwo\": pso_result}\n"
   ]
  },
  {
   "cell_type": "code",
   "execution_count": 17,
   "metadata": {},
   "outputs": [
    {
     "data": {
      "text/plain": [
       "{'pso': {'mean': 550, 'std': 302.7650354097492, 'best': 1000, 'worst': 100},\n",
       " 'gwo': {'mean': 550, 'std': 302.7650354097492, 'best': 1000, 'worst': 100}}"
      ]
     },
     "execution_count": 17,
     "metadata": {},
     "output_type": "execute_result"
    }
   ],
   "source": [
    "x"
   ]
  },
  {
   "cell_type": "code",
   "execution_count": 25,
   "metadata": {},
   "outputs": [],
   "source": [
    "x = pd.concat(objs=[pd.DataFrame(ress),pd.DataFrame(ress)], axis=0)"
   ]
  },
  {
   "cell_type": "code",
   "execution_count": 26,
   "metadata": {},
   "outputs": [
    {
     "data": {
      "text/html": [
       "<div>\n",
       "<style scoped>\n",
       "    .dataframe tbody tr th:only-of-type {\n",
       "        vertical-align: middle;\n",
       "    }\n",
       "\n",
       "    .dataframe tbody tr th {\n",
       "        vertical-align: top;\n",
       "    }\n",
       "\n",
       "    .dataframe thead th {\n",
       "        text-align: right;\n",
       "    }\n",
       "</style>\n",
       "<table border=\"1\" class=\"dataframe\">\n",
       "  <thead>\n",
       "    <tr style=\"text-align: right;\">\n",
       "      <th></th>\n",
       "      <th>mean</th>\n",
       "      <th>std</th>\n",
       "      <th>best</th>\n",
       "      <th>worst</th>\n",
       "    </tr>\n",
       "  </thead>\n",
       "  <tbody>\n",
       "    <tr>\n",
       "      <th>0</th>\n",
       "      <td>550</td>\n",
       "      <td>302.765035</td>\n",
       "      <td>1000</td>\n",
       "      <td>100</td>\n",
       "    </tr>\n",
       "    <tr>\n",
       "      <th>1</th>\n",
       "      <td>550</td>\n",
       "      <td>302.765035</td>\n",
       "      <td>1000</td>\n",
       "      <td>100</td>\n",
       "    </tr>\n",
       "    <tr>\n",
       "      <th>2</th>\n",
       "      <td>550</td>\n",
       "      <td>302.765035</td>\n",
       "      <td>1000</td>\n",
       "      <td>100</td>\n",
       "    </tr>\n",
       "    <tr>\n",
       "      <th>0</th>\n",
       "      <td>550</td>\n",
       "      <td>302.765035</td>\n",
       "      <td>1000</td>\n",
       "      <td>100</td>\n",
       "    </tr>\n",
       "    <tr>\n",
       "      <th>1</th>\n",
       "      <td>550</td>\n",
       "      <td>302.765035</td>\n",
       "      <td>1000</td>\n",
       "      <td>100</td>\n",
       "    </tr>\n",
       "    <tr>\n",
       "      <th>2</th>\n",
       "      <td>550</td>\n",
       "      <td>302.765035</td>\n",
       "      <td>1000</td>\n",
       "      <td>100</td>\n",
       "    </tr>\n",
       "  </tbody>\n",
       "</table>\n",
       "</div>"
      ],
      "text/plain": [
       "   mean         std  best  worst\n",
       "0   550  302.765035  1000    100\n",
       "1   550  302.765035  1000    100\n",
       "2   550  302.765035  1000    100\n",
       "0   550  302.765035  1000    100\n",
       "1   550  302.765035  1000    100\n",
       "2   550  302.765035  1000    100"
      ]
     },
     "execution_count": 26,
     "metadata": {},
     "output_type": "execute_result"
    }
   ],
   "source": [
    "x"
   ]
  },
  {
   "cell_type": "code",
   "execution_count": 4,
   "metadata": {},
   "outputs": [],
   "source": [
    "from SALib.sample import saltelli"
   ]
  },
  {
   "cell_type": "code",
   "execution_count": 5,
   "metadata": {},
   "outputs": [],
   "source": [
    "from SALib.analyze import sobol"
   ]
  },
  {
   "cell_type": "code",
   "execution_count": 6,
   "metadata": {},
   "outputs": [],
   "source": [
    "from SALib.test_functions import Ishigami"
   ]
  },
  {
   "cell_type": "code",
   "execution_count": 7,
   "metadata": {},
   "outputs": [
    {
     "name": "stdout",
     "output_type": "stream",
     "text": [
      "          ST   ST_conf\n",
      "x1  1.366753  1.744724\n",
      "x2  0.682833  0.736984\n",
      "x3  0.310786  0.258209\n",
      "          S1   S1_conf\n",
      "x1  0.095959  0.593298\n",
      "x2  0.926550  0.619401\n",
      "x3 -0.426857  0.368926\n",
      "                S2   S2_conf\n",
      "(x1, x2)  0.111826  1.038804\n",
      "(x1, x3)  0.937467  0.798982\n",
      "(x2, x3)  0.052900  0.591623\n",
      "[ 0.09595908  0.92654977 -0.42685726]\n"
     ]
    },
    {
     "name": "stderr",
     "output_type": "stream",
     "text": [
      "/Users/sehej/.pyenv/versions/3.8.9/envs/disaster/lib/python3.8/site-packages/SALib/sample/saltelli.py:94: UserWarning: \n",
      "        Convergence properties of the Sobol' sequence is only valid if\n",
      "        `N` (10) is equal to `2^n`.\n",
      "        \n",
      "  warnings.warn(msg)\n"
     ]
    }
   ],
   "source": [
    "problem = {\n",
    "    'num_vars': 3,\n",
    "    'names': ['x1', 'x2', 'x3'],\n",
    "    'bounds': [[-3.14159265359, 3.14159265359],\n",
    "               [-3.14159265359, 3.14159265359],\n",
    "               [-3.14159265359, 3.14159265359]]\n",
    "}\n",
    "\n",
    "# Generate samples\n",
    "param_values = saltelli.sample(problem, 10)\n",
    "\n",
    "# Run model (example)\n",
    "Y = Ishigami.evaluate(param_values)\n",
    "\n",
    "# Perform analysis\n",
    "Si = sobol.analyze(problem, Y, print_to_console=True)\n",
    "\n",
    "# Print the first-order sensitivity indices\n",
    "print(Si['S1'])\n"
   ]
  },
  {
   "cell_type": "code",
   "execution_count": 19,
   "metadata": {},
   "outputs": [
    {
     "data": {
      "text/plain": [
       "(80, 3)"
      ]
     },
     "execution_count": 19,
     "metadata": {},
     "output_type": "execute_result"
    }
   ],
   "source": [
    "param_values.shape"
   ]
  },
  {
   "cell_type": "code",
   "execution_count": null,
   "metadata": {},
   "outputs": [],
   "source": []
  }
 ],
 "metadata": {
  "interpreter": {
   "hash": "e00b8d48eebbb9c8d0a7a0ae95a73ed5eb6ab088a599cb51e40caea0e980ef58"
  },
  "kernelspec": {
   "display_name": "Python 3.8.9 64-bit ('disaster': pyenv)",
   "language": "python",
   "name": "python3"
  },
  "language_info": {
   "codemirror_mode": {
    "name": "ipython",
    "version": 3
   },
   "file_extension": ".py",
   "mimetype": "text/x-python",
   "name": "python",
   "nbconvert_exporter": "python",
   "pygments_lexer": "ipython3",
   "version": "3.8.9"
  },
  "orig_nbformat": 4
 },
 "nbformat": 4,
 "nbformat_minor": 2
}
